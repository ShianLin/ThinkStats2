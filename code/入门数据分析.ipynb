{
 "cells": [
  {
   "cell_type": "markdown",
   "metadata": {},
   "source": [
    "# 统计+PYTHON：入门数据分析"
   ]
  },
  {
   "cell_type": "markdown",
   "metadata": {},
   "source": [
    "数据处理的SOP通常如下：\n",
    "\n",
    "1. 导入和清洗\n",
    "\n",
    "2. 单变量探索\n",
    "\n",
    "3. 成对探索\n",
    "\n",
    "4. 多变量分析\n",
    "\n",
    "5. 估计和假设检验\n",
    "\n",
    "6. 可视化"
   ]
  },
  {
   "cell_type": "markdown",
   "metadata": {},
   "source": [
    "## 1. 数据探索(EDA,Exploratory data analysis)\n"
   ]
  }
 ],
 "metadata": {
  "kernelspec": {
   "display_name": "base",
   "language": "python",
   "name": "python3"
  },
  "language_info": {
   "name": "python",
   "version": "3.8.8"
  }
 },
 "nbformat": 4,
 "nbformat_minor": 2
}
